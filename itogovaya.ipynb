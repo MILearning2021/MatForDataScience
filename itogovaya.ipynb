{
 "cells": [
  {
   "cell_type": "code",
   "execution_count": 31,
   "metadata": {},
   "outputs": [],
   "source": [
    "#ИТОГОВАЯ РАБОТА\n",
    "\n",
    "import numpy as np\n",
    "import math as mt\n",
    "from sklearn.decomposition import PCA\n",
    "from sklearn.metrics import mean_squared_error\n",
    "import matplotlib.pyplot as plt\n",
    "from sympy import *\n",
    "from scipy.optimize import differential_evolution, minimize\n",
    "import random\n"
   ]
  },
  {
   "cell_type": "code",
   "execution_count": 16,
   "metadata": {},
   "outputs": [
    {
     "name": "stdout",
     "output_type": "stream",
     "text": [
      "Лучшие пары:\n",
      "(9, 2, 0.9187305147356807)\n",
      "(8, 0, 0.9106598233573044)\n",
      "(7, 5, 0.8445168512565341)\n",
      "(6, 3, 0.832742107055763)\n",
      "(5, 9, 0.8551490764118892)\n",
      "(4, 8, 0.8794847716076252)\n",
      "(3, 9, 0.8588686958710952)\n",
      "(2, 9, 0.9187305147356807)\n",
      "(1, 4, 0.8713805223930228)\n",
      "(0, 8, 0.9106598233573044)\n",
      "\n",
      "Проверка достаточности количества признаков:\n",
      "количество компонент: 0, ошибка: 7.519333333333334\n",
      "количество компонент: 1, ошибка: 5.61139667045074\n",
      "количество компонент: 2, ошибка: 4.129930843805994\n",
      "количество компонент: 3, ошибка: 3.0687043366351308\n",
      "количество компонент: 4, ошибка: 2.094471612033206\n",
      "количество компонент: 5, ошибка: 1.2455442696728187\n",
      "количество компонент: 6, ошибка: 0.6355156278412625\n",
      "количество компонент: 7, ошибка: 0.2970720078543606\n",
      "количество компонент: 8, ошибка: 0.1033134679583121\n",
      "количество компонент: 9, ошибка: 6.515991077125557e-30\n",
      "\n",
      "Новый массив из 5 признаков: \n",
      "[[-5.30986101  1.92919845 -4.93300027  2.70188013  5.50497886]\n",
      " [ 2.87763403  2.71659559  1.40592782  7.26325751 -4.50322291]\n",
      " [-4.94010408 -6.68861167 -0.94550184  3.61556661 -0.68969272]\n",
      " [ 5.14939908 -6.28027284 -4.65978558  1.09024004 -1.01471112]\n",
      " [-1.37488691  7.54357985  4.00834369  2.1284001  -0.16324949]\n",
      " [ 2.65341956 -3.77075601  8.58430748 -1.46628319  1.67401769]\n",
      " [ 8.61573944  3.78603335 -4.02721027 -4.37582577 -3.13880277]\n",
      " [ 5.39658258 -1.0170466   1.01456742 -1.89512837  6.54883538]\n",
      " [-5.7843488   5.29857107 -1.48083611 -3.71295542  0.21312695]\n",
      " [-7.2835739  -3.51729118  1.03318766 -5.34915166 -4.43127987]]\n"
     ]
    }
   ],
   "source": [
    "#Задание №1\n",
    "#Дана матрица рейтингов фильмов (строки - пользователи (10 человек), столбцы - фильмы (15 фильмов))\n",
    "\n",
    "raitings = np.array([[ 4,  4,  9,  4,  1,  6, 10,  7,  9,  6,  9,  2,  8,  6,  6],\n",
    "                     [ 9,  2,  5, 10,  7,  8, 10,  5,  6,  2,  1,  6,  8,  9,  7],\n",
    "                     [ 1,  6,  8,  8,  4,  9,  3,  8, 10,  5,  2,  6,  8,  1,  6],\n",
    "                     [ 6,  1,  9,  7,  7,  9,  2,  3,  5,  1,  6,  6,  3,  2,  7],\n",
    "                     [ 3,  7,  3,  5,  7,  9,  9,  6,  2,  9,  1,  2,  8, 10,  6],\n",
    "                     [ 8,  3,  7,  3,  8,  6,  1,  8,  8,  6,  1,  9,  4, 10,  1],\n",
    "                     [ 9,  8,  4,  8,  8, 10,  6,  1,  1,  2,  9,  5,  2,  7,  2],\n",
    "                     [ 4,  1,  6,  4,  3, 10,  4,  4,  2,  8,  7,  9,  3,  8,  3],\n",
    "                     [ 2,  7,  7,  6, 10,  6,  8,  9,  8,  6, 10,  1,  7, 10,  4],\n",
    "                     [ 5, 10,  8,  8,  9,  7,  2,  9,  9, 10,  8,  8,  8,  6, 10]])\n",
    "\n",
    "\n",
    "#Необходимо найти наиболее похожего пользователя по косинусной метрике для каждого из пользователей\n",
    "#(ответ: 10 пар вида (x, y), где y - наиболее похожий пользователь на пользователя x).\n",
    "\n",
    "userXY = [] #список пар\n",
    "\n",
    "\n",
    "for i in range(0,len(raitings)):        #берем очередного юзера из 10                        \n",
    "    for j in range(0,len(raitings)):    #выбираем ему очередного товарища, кроме себя самого\n",
    "        if j != i:                      #считаем косинусную метрику, заполняем список пар XY с их метриками\n",
    "            userX = raitings[i]\n",
    "            userY = raitings[j]\n",
    "            metrica = np.dot(userX, userY) / (mt.sqrt(np.dot(userX, userX)) * mt.sqrt(np.dot(userY, userY)))\n",
    "            userXY.append((i, j, metrica))\n",
    "\n",
    "bestXY = sorted(userXY, key = lambda x: (x[0], x[2]), reverse=True) #группировка массива пар по user:metric \n",
    "                                                                    #(получаем metric одного user в порядке \n",
    "                                                                    #убывания) \n",
    "       \n",
    "print('Лучшие пары:')\n",
    "for i in range(0, len(bestXY), 9):      #вывод наиболее похожих пар (лучшая metric для user)\n",
    "    print(bestXY[i])\n",
    "\n",
    "#Предположим, вы захотели сжать признаковые описания пользователя с 15 фильмов, до, скажем, 5-ти признаков, \n",
    "#как вы это сделаете?\n",
    "\n",
    "#применю метод главных компонент (PCA) для оптимизации количества признаковых описаний, в качестве меры возьму\n",
    "#среднее квадратичное отклонение (MSE)\n",
    "\n",
    "#plt.figure()\n",
    "print('\\n' + 'Проверка достаточности количества признаков:')\n",
    "for i in range(0,10):\n",
    "    pca = PCA(n_components=i)\n",
    "    pca.fit(raitings)\n",
    "    paramT = pca.transform(raitings)\n",
    "    paramBack = pca.inverse_transform(paramT)\n",
    "    mse = mean_squared_error(raitings, paramBack)\n",
    "    print(f'количество компонент: {i}, ошибка: {mse}')\n",
    "    #plt.plot(i, mse, 'o')\n",
    "    \n",
    "#в результате, не уверен, что 5 признаков достаточно, т.к. ошибка при этом сравнительно велика, по-моему\n",
    "#тем не менее, при уменьшении количества признаков до 5, получаем следующий результирующий набор\n",
    "\n",
    "pca = PCA(n_components=5)\n",
    "pca.fit(raitings)\n",
    "paramT = pca.transform(raitings)\n",
    "print('\\n' + 'Новый массив из 5 признаков: ' + '\\n' + f'{paramT}')"
   ]
  },
  {
   "cell_type": "code",
   "execution_count": 19,
   "metadata": {},
   "outputs": [
    {
     "name": "stdout",
     "output_type": "stream",
     "text": [
      "Производная: 2*(-2*sin(2*x + 3) + cos(x))*(tan(sin(x) + cos(2*x + 3))**2 + 1)*tan(sin(x) + cos(2*x + 3))\n",
      "Значение производной в точке Xo=1: 55.3859176353379\n",
      "Значение производной \"HANDMADE\" в точке Xo=1: 55.385917635337954\n"
     ]
    }
   ],
   "source": [
    "#Задание №2\n",
    "#Вычислите производную tg^2(sin(x) + cos(2x+3)) в точке x_0=1 (на python и на бумаге).\n",
    "\n",
    "Xo = 1\n",
    "\n",
    "x = symbols('x')\n",
    "y = tan(sin(x) + cos(2 * x + 3))**2\n",
    "funcDerivative = diff(y)\n",
    "\n",
    "print(f'Производная: {funcDerivative}')\n",
    "print(f'Значение производной в точке Xo=1: {funcDerivative.evalf(subs={x:Xo})}')\n",
    "\n",
    "handmadeDerivative = (2*mt.cos(Xo)*mt.tan(mt.cos(2*Xo+3)+mt.sin(Xo))-4*mt.sin(2*Xo+3)*mt.tan(mt.cos(2*Xo+3)+mt.sin(Xo)))/mt.cos(mt.cos(2*Xo+3)+sin(Xo))**2\n",
    "print(f'Значение производной \"HANDMADE\" в точке Xo=1: {handmadeDerivative}')"
   ]
  },
  {
   "cell_type": "code",
   "execution_count": 47,
   "metadata": {},
   "outputs": [
    {
     "name": "stdout",
     "output_type": "stream",
     "text": [
      "     fun: 1.510904045431971e-06\n",
      " message: 'Optimization terminated successfully.'\n",
      "    nfev: 2343\n",
      "     nit: 75\n",
      " success: True\n",
      "       x: array([ 3. , -2.5]) \n",
      "\n",
      "Оптимальные параметры \"differential_evolution\" [a b]: [ 3.  -2.5] \n",
      "\n",
      "     fun: 0.04807800794774142\n",
      "   maxcv: 0.0\n",
      " message: 'Optimization terminated successfully.'\n",
      "    nfev: 131\n",
      "  status: 1\n",
      " success: True\n",
      "       x: array([ 3.00000388, -2.49992627]) \n",
      "\n",
      "Оптимальные параметры \"minimize\" [a b]: [ 3.00000388 -2.49992627]\n"
     ]
    }
   ],
   "source": [
    "#Задание №3\n",
    "#Дана функция с неизвестными параметрами a и b, вам также известны значения функции fx в точках x. \n",
    "#Найдите оптимальные параметры a, b, минимизирующие абсолютную ошибку error.\n",
    "\n",
    "def f(x, a, b):\n",
    "    return np.e**a * np.sin(b*x) + x\n",
    "\n",
    "x = np.array([0.        , 0.26315789, 0.52631579, 0.78947368, 1.05263158,\n",
    "              1.31578947, 1.57894737, 1.84210526, 2.10526316, 2.36842105,\n",
    "              2.63157895, 2.89473684, 3.15789474, 3.42105263, 3.68421053,\n",
    "              3.94736842, 4.21052632, 4.47368421, 4.73684211, 5.        ])\n",
    "\n",
    "fx = np.array([  0.        , -12.01819092, -18.90968634, -17.68786571,\n",
    "                -8.7529108 ,   4.27524517,  16.06801336,  21.81250213,\n",
    "                19.22059845,   9.48411207,  -3.22273056, -13.48576488,\n",
    "               -16.91096359, -11.95866834,  -0.58630088,  12.56873816,\n",
    "                22.12489421,  24.20292139,  18.04522521,   6.33211092])\n",
    "\n",
    "#plt.plot(x, fx)\n",
    "#plt.show()\n",
    "\n",
    "def error(params):\n",
    "    return np.sum(np.abs(fx - f(x, params[0], params[1])))\n",
    "\n",
    "#params = [(0., 10.), (np.pi, 5*np.pi)]\n",
    "params = [(-5, 5), (-25, 25)]\n",
    "\n",
    "result = differential_evolution(error, params, strategy='best1bin')\n",
    "print(result, '\\n')\n",
    "print(f'Оптимальные параметры \"differential_evolution\" [a b]: {result.x}', '\\n')\n",
    "\n",
    "result = minimize(error, [0,0], method='COBYLA')\n",
    "print(result, '\\n')\n",
    "print(f'Оптимальные параметры \"minimize\" [a b]: {result.x}')"
   ]
  },
  {
   "cell_type": "code",
   "execution_count": 21,
   "metadata": {},
   "outputs": [
    {
     "data": {
      "image/png": "[encoded data removed]",
      "text/plain": [
       "<Figure size 432x288 with 1 Axes>"
      ]
     },
     "metadata": {
      "needs_background": "light"
     },
     "output_type": "display_data"
    }
   ],
   "source": [
    "#Задание №4\n",
    "#Создайте собственную дискретную случайную величину с 20 значениями. Сгенерируйте 1000 выборок размера 50. \n",
    "#Посчитайте среднее для каждой выборки. Постройте гистограмму распределения средних.\n",
    "\n",
    "randA = list(np.random.randint(low = 0, high = 20, size = 1000))\n",
    "n, bins, patches = plt.hist([(np.mean(random.sample(randA, 50))) for i in range(0, 1000)], \n",
    "                            bins = 300, density = 0, color ='blue',alpha = 1)\n"
   ]
  },
  {
   "cell_type": "code",
   "execution_count": 65,
   "metadata": {},
   "outputs": [
    {
     "name": "stdout",
     "output_type": "stream",
     "text": [
      "Cобственное значение: 3.0000000000000004\n",
      "соответствующий собственный вектор: [ 0.89442719 -0.89442719]\n",
      "Cобственное значение: -0.9999999999999996\n",
      "соответствующий собственный вектор: [0.4472136 0.4472136]\n"
     ]
    }
   ],
   "source": [
    "#Задание №5\n",
    "#Найдите собственные значения и собственные вектора матрицы (на python и на бумаге):\n",
    "\n",
    "m = np.array([[1, 4],\n",
    "              [1, 1]])\n",
    "\n",
    "w,v = np.linalg.eig(m)\n",
    "for i in range(len(w)):\n",
    "    print(f'Cобственное значение: {w[i]}')\n",
    "    print(f'соответствующий собственный вектор: {v[i]}')"
   ]
  }
 ],
 "metadata": {
  "kernelspec": {
   "display_name": "Python 3",
   "language": "python",
   "name": "python3"
  },
  "language_info": {
   "codemirror_mode": {
    "name": "ipython",
    "version": 3
   },
   "file_extension": ".py",
   "mimetype": "text/x-python",
   "name": "python",
   "nbconvert_exporter": "python",
   "pygments_lexer": "ipython3",
   "version": "3.8.5"
  }
 },
 "nbformat": 4,
 "nbformat_minor": 4
}
