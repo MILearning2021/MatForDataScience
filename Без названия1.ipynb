{
 "cells": [
  {
   "cell_type": "code",
   "execution_count": 19,
   "metadata": {},
   "outputs": [],
   "source": [
    "import math\n",
    "import csv\n",
    "import numpy\n",
    "\n",
    "#чтение данных из файла\n",
    "def ReadFile(filename = \"<csv_file_location>\"):\n",
    "    f = open(filename)\n",
    "    r = csv.reader(f)\n",
    "    mentions = dict()\n",
    "    for line in r:\n",
    "        user = line[0]\n",
    "        product = line[1]\n",
    "        rate = float(line[2])\n",
    "        if not user in mentions:\n",
    "            mentions[user] = dict()\n",
    "        mentions[user][product] = rate\n",
    "    f.close()\n",
    "    return mentions\n",
    "\n",
    "#вычисление косинусной метрики двух векторов\n",
    "def distCosine(vecA, vecB):\n",
    "    def dotProduct(vecA, vecB):\n",
    "        d = 0.0\n",
    "        for dim in vecA:\n",
    "            if dim in vecB:\n",
    "                d += vecA[dim]*vecB[dim]\n",
    "        return d\n",
    "    return dotProduct(vecA,vecB) / math.sqrt(dotProduct(vecA,vecA)) / math.sqrt(dotProduct(vecB,vecB))\n",
    "\n",
    "#непосредственно коллаборативная фильтрация\n",
    "#https://habr.com/ru/post/150399/\n",
    "\n",
    "def makeRecommendation(userID, userRates, nBestUsers, nBestProducts):\n",
    "   \n",
    "    #matches = [(u, distCosine(userRates[userID], userRates[u])) for u in userRates if u != userID]\n",
    "    matches = []\n",
    "    for u in userRates:\n",
    "        if u != userID:\n",
    "            matches.append((u, distCosine(userRates[userID], userRates[u])))\n",
    "    \n",
    "    #bestMatches = sorted(matches, key=lambda x,y:(y,x), reverse=True)[:nBestUsers]\n",
    "    bestMatches = sorted(matches, key = lambda x: (x[1]), reverse=True)[:nBestUsers]\n",
    " \n",
    "    print(f'Most correlated with {userID} users:')\n",
    "    for line in bestMatches:\n",
    "        print(f'  UserID: {line[0]}  Coeff: {line[1]}') \n",
    "    \n",
    "    sim = dict()\n",
    "    sim_all = sum([x[1] for x in bestMatches])\n",
    "    bestMatches = dict([x for x in bestMatches if x[1] > 0.0])        \n",
    " \n",
    "    for relatedUser in bestMatches:\n",
    "        for product in userRates[relatedUser]:\n",
    "            if not product in userRates[userID]:\n",
    "                if not product in sim:\n",
    "                    sim[product] = 0.0\n",
    "                sim[product] += userRates[relatedUser][product] * bestMatches[relatedUser]\n",
    "                \n",
    "    for product in sim:\n",
    "        sim[product] /= sim_all\n",
    "        \n",
    "    #bestProducts = sorted(sim.items(), key=lambda x,y:(y,x), reverse=True)[:nBestProducts]\n",
    "    bestProducts = sorted(sim.items(), key = lambda x: (x[1]), reverse=True)[:nBestProducts]\n",
    "\n",
    "    print('Most correlated products:')\n",
    "    for prodInfo in bestProducts:    \n",
    "        #print\"  ProductID: %6s  CorrelationCoeff: %6.4f\" % (prodInfo[0], prodInfo[1])\n",
    "        print(f'  ProductID: {prodInfo[0]}  CorrelationCoeff: {prodInfo[1]}')\n",
    "    return [(x[0], x[1]) for x in bestProducts]\n"
   ]
  },
  {
   "cell_type": "code",
   "execution_count": 20,
   "metadata": {},
   "outputs": [
    {
     "name": "stdout",
     "output_type": "stream",
     "text": [
      "Most correlated with ivan users:\n",
      "  UserID: alex  Coeff: 0.5163977794943223\n",
      "  UserID: david  Coeff: 0.06666666666666667\n",
      "  UserID: bob  Coeff: 0.0\n",
      "Most correlated products:\n",
      "  ProductID: 5  CorrelationCoeff: 3.5426463259379775\n",
      "  ProductID: 2  CorrelationCoeff: 2.656984744453483\n",
      "  ProductID: 3  CorrelationCoeff: 0.4573536740620226\n",
      "  ProductID: 4  CorrelationCoeff: 0.34301525554651696\n",
      "  ProductID: 7  CorrelationCoeff: 0.11433841851550565\n"
     ]
    }
   ],
   "source": [
    "rec = makeRecommendation('ivan', ReadFile(filename = \"/Volumes/data/test.csv\"), 5, 5)\n"
   ]
  },
  {
   "cell_type": "code",
   "execution_count": null,
   "metadata": {},
   "outputs": [],
   "source": []
  },
  {
   "cell_type": "code",
   "execution_count": null,
   "metadata": {},
   "outputs": [],
   "source": []
  }
 ],
 "metadata": {
  "kernelspec": {
   "display_name": "Python 3",
   "language": "python",
   "name": "python3"
  },
  "language_info": {
   "codemirror_mode": {
    "name": "ipython",
    "version": 3
   },
   "file_extension": ".py",
   "mimetype": "text/x-python",
   "name": "python",
   "nbconvert_exporter": "python",
   "pygments_lexer": "ipython3",
   "version": "3.8.5"
  }
 },
 "nbformat": 4,
 "nbformat_minor": 4
}
