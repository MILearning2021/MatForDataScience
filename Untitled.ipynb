{
 "cells": [
  {
   "cell_type": "code",
   "execution_count": 45,
   "metadata": {},
   "outputs": [
    {
     "name": "stdout",
     "output_type": "stream",
     "text": [
      "Первая производная: 14.525826126742029\n",
      "Вторая производная: 15.87694727237698\n"
     ]
    }
   ],
   "source": [
    "#уровень 0\n",
    "#Посчитайте значение первой и второй производной функции:\n",
    "#$f(x) = x^5 + 4sin(2x) + cos(3x+3)$\n",
    "#В точке x = 1.\n",
    "\n",
    "import scipy as scp\n",
    "import numpy as np\n",
    "\n",
    "def f(x) :\n",
    "    return x**5 + 4*np.sin(2*x) + np.cos(3*x + 3)\n",
    "\n",
    "x = 1.0\n",
    "print(\"Первая производная: \" + str(scp.misc.derivative(f, x, n = 1)))\n",
    "print(\"Вторая производная: \" + str(scp.misc.derivative(f, x, n = 2)))"
   ]
  },
  {
   "cell_type": "code",
   "execution_count": null,
   "metadata": {},
   "outputs": [],
   "source": []
  },
  {
   "cell_type": "code",
   "execution_count": null,
   "metadata": {},
   "outputs": [],
   "source": []
  },
  {
   "cell_type": "code",
   "execution_count": null,
   "metadata": {},
   "outputs": [],
   "source": []
  },
  {
   "cell_type": "code",
   "execution_count": null,
   "metadata": {},
   "outputs": [],
   "source": []
  },
  {
   "cell_type": "code",
   "execution_count": null,
   "metadata": {},
   "outputs": [],
   "source": []
  }
 ],
 "metadata": {
  "kernelspec": {
   "display_name": "Python 3",
   "language": "python",
   "name": "python3"
  },
  "language_info": {
   "codemirror_mode": {
    "name": "ipython",
    "version": 3
   },
   "file_extension": ".py",
   "mimetype": "text/x-python",
   "name": "python",
   "nbconvert_exporter": "python",
   "pygments_lexer": "ipython3",
   "version": "3.8.5"
  }
 },
 "nbformat": 4,
 "nbformat_minor": 4
}
