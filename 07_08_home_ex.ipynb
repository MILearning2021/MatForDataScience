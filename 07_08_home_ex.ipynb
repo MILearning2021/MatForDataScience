{
 "cells": [
  {
   "cell_type": "code",
   "execution_count": 31,
   "metadata": {},
   "outputs": [],
   "source": [
    "#уровень 0\n",
    "import numpy as np\n",
    "import math as mt"
   ]
  },
  {
   "cell_type": "code",
   "execution_count": 46,
   "metadata": {},
   "outputs": [
    {
     "name": "stdout",
     "output_type": "stream",
     "text": [
      "матрица: \n",
      "[[-1.  0.  0.]\n",
      " [ 0. -1.  0.]\n",
      " [ 0.  0. -1.]]\n",
      "проверка: \n",
      "[[1. 0. 0.]\n",
      " [0. 1. 0.]\n",
      " [0. 0. 1.]]\n"
     ]
    }
   ],
   "source": [
    "#Диагональная, ортогональная, но не единичная(!)\n",
    "#она же Верхнетреугольная, ортогональная\n",
    "#она же Нижнетреугольная, ортогональная\n",
    "\n",
    "A0 = np.array ([[-1* mt.cos(mt.radians(0)),mt.sin(mt.radians(0)),mt.sin(mt.radians(0))],            \n",
    "                [mt.sin(mt.radians(0)),-1* mt.cos(mt.radians(0)),mt.sin(mt.radians(0))],\n",
    "                [mt.sin(mt.radians(0)),mt.sin(mt.radians(0)),-1 * mt.cos(mt.radians(0))]])\n",
    "AT = A0.transpose()\n",
    "print('матрица: ', A0, sep='\\n')\n",
    "print('проверка: ', A0.dot(AT), sep='\\n')"
   ]
  },
  {
   "cell_type": "code",
   "execution_count": 50,
   "metadata": {},
   "outputs": [
    {
     "name": "stdout",
     "output_type": "stream",
     "text": [
      "матрица: \n",
      "[[1.5 2. ]\n",
      " [1.  2. ]]\n",
      "определитель: \n",
      "1.0\n"
     ]
    }
   ],
   "source": [
    "#Матрица, у которой определитель = 1, и все элементы не равны 0\n",
    "\n",
    "m = np.array([[1.5, 2.],\n",
    "              [1., 2.]])\n",
    "print('матрица: ', m, sep='\\n')\n",
    "print('определитель: ', np.linalg.det(m), sep='\\n')"
   ]
  },
  {
   "cell_type": "code",
   "execution_count": 75,
   "metadata": {},
   "outputs": [
    {
     "name": "stdout",
     "output_type": "stream",
     "text": [
      "собственное значение: 1.0\n",
      "соответствующий собственный вектор: [-0.89442719 -0.70710678]\n",
      "собственное значение: 4.0\n",
      "соответствующий собственный вектор: [ 0.4472136  -0.70710678]\n"
     ]
    }
   ],
   "source": [
    "#Найдите собственные значения и собственные векторsы матриц\n",
    "\n",
    "m = np.array([[2, 2],\n",
    "              [1, 3]])\n",
    "w,v = np.linalg.eig(m)\n",
    "for i in range(len(w)):\n",
    "    print(\"собственное значение: \" + str(w[i]))\n",
    "    print(\"соответствующий собственный вектор: \" + str(v[i]))"
   ]
  },
  {
   "cell_type": "code",
   "execution_count": 76,
   "metadata": {},
   "outputs": [
    {
     "name": "stdout",
     "output_type": "stream",
     "text": [
      "[[1. 2.]\n",
      " [2. 3.]]\n"
     ]
    }
   ],
   "source": [
    "#уровень 1\n",
    "#Найдите спектральное разложение матрицы\n",
    "\n",
    "m = np.array([[1, 2],\n",
    "              [2,3]])\n",
    "w,v = np.linalg.eig(m)\n",
    "V = v.T   \n",
    "L = np.diag(w)         \n",
    "\n",
    "M = v.dot(L).dot(V)\n",
    "\n",
    "print(M)"
   ]
  },
  {
   "cell_type": "code",
   "execution_count": 81,
   "metadata": {},
   "outputs": [
    {
     "name": "stdout",
     "output_type": "stream",
     "text": [
      "(1797, 64)\n"
     ]
    },
    {
     "data": {
      "text/plain": [
       "<Figure size 432x288 with 0 Axes>"
      ]
     },
     "metadata": {},
     "output_type": "display_data"
    },
    {
     "data": {
      "image/png": "[encoded data removed]",
      "text/plain": [
       "<Figure size 288x288 with 1 Axes>"
      ]
     },
     "metadata": {
      "needs_background": "light"
     },
     "output_type": "display_data"
    },
    {
     "data": {
      "image/png": "[encoded data removed]",
      "text/plain": [
       "<Figure size 288x288 with 1 Axes>"
      ]
     },
     "metadata": {
      "needs_background": "light"
     },
     "output_type": "display_data"
    }
   ],
   "source": [
    "#Постройте зависимость качества восстановления рукописных цифр (MNIST) в зависимости от различного \n",
    "#количества компонент PCA. В качестве метрики различия предлагаю использовать MSE.\n",
    "\n",
    "from sklearn.datasets import load_digits\n",
    "import matplotlib.pyplot as plt\n",
    "\n",
    "digits = load_digits()\n",
    "print(digits.data.shape)\n",
    " \n",
    "plt.gray() \n",
    "plt.matshow(digits.images[0])\n",
    "plt.matshow(digits.images[5]) \n",
    "plt.show()\n",
    "\n"
   ]
  },
  {
   "cell_type": "code",
   "execution_count": null,
   "metadata": {},
   "outputs": [],
   "source": []
  }
 ],
 "metadata": {
  "kernelspec": {
   "display_name": "Python 3",
   "language": "python",
   "name": "python3"
  },
  "language_info": {
   "codemirror_mode": {
    "name": "ipython",
    "version": 3
   },
   "file_extension": ".py",
   "mimetype": "text/x-python",
   "name": "python",
   "nbconvert_exporter": "python",
   "pygments_lexer": "ipython3",
   "version": "3.8.5"
  }
 },
 "nbformat": 4,
 "nbformat_minor": 4
}
