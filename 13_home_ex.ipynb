{
 "cells": [
  {
   "cell_type": "code",
   "execution_count": 12,
   "metadata": {},
   "outputs": [
    {
     "name": "stdout",
     "output_type": "stream",
     "text": [
      "Вероятность: 0.5\n"
     ]
    }
   ],
   "source": [
    "#Уровень 0:\n",
    "#Задание 1:\n",
    "#Монетку подбрасывают 15 раз, найдите вероятность выпадения простого числа орлов.\n",
    "\n",
    "import numpy as np\n",
    "import math as mt\n",
    "import matplotlib.pyplot as plt\n",
    "import random\n",
    "\n",
    "k = 15\n",
    "p = 0.\n",
    "for i in range(1,17,2):\n",
    "    p = p +  (mt.factorial(k) / (mt.factorial(i) * mt.factorial(k - i))) / 2**k\n",
    "print(\"Вероятность: \" + str(p))"
   ]
  },
  {
   "cell_type": "code",
   "execution_count": 37,
   "metadata": {},
   "outputs": [
    {
     "name": "stdout",
     "output_type": "stream",
     "text": [
      "Среднее арифметическое: 300.997\n",
      "               Медиана: 305.0\n",
      "             Дисперсия: 12891.590991000001\n"
     ]
    },
    {
     "data": {
      "image/png": "[encoded data removed]",
      "text/plain": [
       "<Figure size 432x288 with 1 Axes>"
      ]
     },
     "metadata": {
      "needs_background": "light"
     },
     "output_type": "display_data"
    }
   ],
   "source": [
    "#Задание 2:\n",
    "#Создайте свою дискретную случайную величину с не менее, чем 10 значениями. \n",
    "#Просемплируйте 1000 случайных значений, постройте гистограмму плотности распределения по выборке, \n",
    "#посчитайте среднее, дисперсию и медиану.\n",
    "\n",
    "random_arr1 = list(np.random.randint(low = 100, high=500, size=3000))\n",
    "sample_arr2 = random.sample(random_arr1, 1000)\n",
    "\n",
    "#print(\"Массив '3000': \" + str(random_arr1))\n",
    "#print(\"Массив '1000': \" + str(sample_arr2) + \" сэмпл 1000 значений из массива '3000'\")\n",
    "print(\"Среднее арифметическое: \" + str(np.mean(sample_arr2)))\n",
    "print(\"               Медиана: \" + str(np.median(sample_arr2)))\n",
    "print(\"             Дисперсия: \" + str(np.var(sample_arr2)))\n",
    "\n",
    "num_bins = 1000\n",
    "n, bins, patches = plt.hist(sample_arr2, num_bins, \n",
    "                            density = 0, \n",
    "                            color ='green',\n",
    "                            alpha = 0.7)\n",
    "                            "
   ]
  },
  {
   "cell_type": "code",
   "execution_count": null,
   "metadata": {},
   "outputs": [],
   "source": [
    "#Уровень 1:\n",
    "#Задание 3:\n",
    "#Пусть брошены 3 уравновешенные монеты.\n",
    "#Рассмотрим 3 события:\n",
    "#A1 - монеты 1 и 2 упали одной и той же стороной;\n",
    "#A2 - монеты 2 и 3 упали одной и той же стороной;\n",
    "#A3 - монеты 1 и 3 упали одной и той же стороной.\n",
    "#Покажите, почему эти 3 события (A1, A2, A3) являются попарно независимыми, но не являются независимыми в совокупности.\n",
    "\n",
    "#из эксперимента это становится очевидным"
   ]
  },
  {
   "cell_type": "code",
   "execution_count": 40,
   "metadata": {},
   "outputs": [
    {
     "name": "stdout",
     "output_type": "stream",
     "text": [
      "Вероятность покупки товара высшего сорта: 11.5%\n"
     ]
    }
   ],
   "source": [
    "#Задание 4 (формула полной вероятности):\n",
    "#В магазин привезли устройства с 3-х разных предприятий.\n",
    "#Соотношение устройств следующее: 20% - продукция первого предприятия, 30% - продукция второго предприятия, \n",
    "#50% - продукция третьего предприятия; далее, 10% продукции первого предприятия высшего сорта, \n",
    "#на втором предприятии - 5% и на третьем - 20% продукции высшего сорта.\n",
    "#Найти вероятность того, что случайно купленная новая продукция окажется высшего сорта.\n",
    "\n",
    "#A[i] - вероятности того, что купят продукцию i-го предприятия\n",
    "#B[i] - вероятности того, что при покупке продукции i-го предприятия она окажется высшего сорта\n",
    "\n",
    "A = [0.2, 0.3, 0.5]\n",
    "B = [0.1, 0.05, 0.2]\n",
    "\n",
    "P = 0\n",
    "for i in range(1, 3):\n",
    "    P = P + (A[i] * B[i])\n",
    "\n",
    "print(\"Вероятность покупки товара высшего сорта: \" + str(P * 100) + \"%\")"
   ]
  },
  {
   "cell_type": "code",
   "execution_count": null,
   "metadata": {},
   "outputs": [],
   "source": []
  }
 ],
 "metadata": {
  "kernelspec": {
   "display_name": "Python 3",
   "language": "python",
   "name": "python3"
  },
  "language_info": {
   "codemirror_mode": {
    "name": "ipython",
    "version": 3
   },
   "file_extension": ".py",
   "mimetype": "text/x-python",
   "name": "python",
   "nbconvert_exporter": "python",
   "pygments_lexer": "ipython3",
   "version": "3.8.5"
  }
 },
 "nbformat": 4,
 "nbformat_minor": 4
}
