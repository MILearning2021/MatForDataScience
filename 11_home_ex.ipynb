{
 "cells": [
  {
   "cell_type": "code",
   "execution_count": 32,
   "metadata": {},
   "outputs": [
    {
     "name": "stdout",
     "output_type": "stream",
     "text": [
      "Производная f1 по dx: 4*x*y**3 + y**2 - 1/x**2\n",
      "Производная f1 по dy: 6*x**2*y**2 + 2*x*y\n",
      "Производная f2 по dx: 2*x*y - 2*x*sin(x**2) - y*cos(x*y)\n",
      "Производная f2 по dy: x**2 - x*cos(x*y) + 6\n",
      "Градиент F1 в точке (1,2): [35.00000024 28.00000024]\n"
     ]
    }
   ],
   "source": [
    "#уровень 0\n",
    "#Посчитайте частные производные функций:\n",
    "#1) f(x,y)=2x^2y^3 + 1/x + y^2x + 7, а для этой функции также градиент в точке (1,2)\n",
    "#2) f(x,y)=x^2y - sin(xy) + cos(x^2) + 6y\n",
    "\n",
    "import numpy as np\n",
    "from scipy.optimize import approx_fprime\n",
    "from scipy.misc import derivative\n",
    "from sympy import * \n",
    "\n",
    "x, y = symbols('x y')\n",
    "\n",
    "f1 = 2*(x**2)*(y**3) + 1/x + x*(y**2) + 7\n",
    "f2 = y*(x**2) - sin(x*y) + cos(x**2) + 6*y\n",
    "print(\"Производная f1 по dx: \" + str(sympy.diff(f1,x)))\n",
    "print(\"Производная f1 по dy: \" + str(sympy.diff(f1,y)))\n",
    "print(\"Производная f2 по dx: \" + str(sympy.diff(f2,x)))\n",
    "print(\"Производная f2 по dy: \" + str(sympy.diff(f2,y)))\n",
    "\n",
    "def func(x, c0, c1):\n",
    "    return c0*(x[0]**2)*(x[1]**3) + 1/x[0] + (x[0]*x[1]**2) + c1\n",
    "\n",
    "z = np.array([1.,2.])\n",
    "c0, c1 = (2,7)\n",
    "eps = np.sqrt(np.finfo(float).eps)\n",
    "print(\"Градиент F1 в точке (1,2): \" + str(approx_fprime(z, func, [eps, eps], c0, c1)))\n"
   ]
  },
  {
   "cell_type": "code",
   "execution_count": 53,
   "metadata": {},
   "outputs": [
    {
     "name": "stdout",
     "output_type": "stream",
     "text": [
      "Минимум достигается в:  [100.         199.99999272]\n",
      "Значение функции в минимуме:  49999.997089617005\n",
      "[]\n"
     ]
    }
   ],
   "source": [
    "#уровень 1\n",
    "#Градиентный спуск своими руками:\n",
    "\n",
    "import scipy\n",
    "\n",
    "def f(x):\n",
    "    return (x[0]**2) + (x[1]**2)\n",
    "\n",
    "x = np.array([100, 200])\n",
    "learning_rate = 0.1\n",
    "\n",
    "for i in range(100):\n",
    "    # Calculate gradient\n",
    "    grad = approx_fprime(x, f, 1e-6) # Your code here (функция для вычисления градиента есть в лекционном ноутбуке)\n",
    "    \n",
    "    # Update x with gradient\n",
    "    x = x - grad # Your code here (смотри слайд презентации про градиентный спуск)\n",
    "\n",
    "print(\"Минимум достигается в: \", x)\n",
    "print(\"Значение функции в минимуме: \", f(x))\n",
    "\n",
    "#Проверка с помощью встроенной функции numpy:\n",
    "print(np.gradient(f, learning_rate))"
   ]
  },
  {
   "cell_type": "code",
   "execution_count": null,
   "metadata": {},
   "outputs": [],
   "source": []
  },
  {
   "cell_type": "code",
   "execution_count": null,
   "metadata": {},
   "outputs": [],
   "source": []
  }
 ],
 "metadata": {
  "kernelspec": {
   "display_name": "Python 3",
   "language": "python",
   "name": "python3"
  },
  "language_info": {
   "codemirror_mode": {
    "name": "ipython",
    "version": 3
   },
   "file_extension": ".py",
   "mimetype": "text/x-python",
   "name": "python",
   "nbconvert_exporter": "python",
   "pygments_lexer": "ipython3",
   "version": "3.8.5"
  }
 },
 "nbformat": 4,
 "nbformat_minor": 4
}
