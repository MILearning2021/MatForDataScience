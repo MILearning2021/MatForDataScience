{
 "cells": [
  {
   "cell_type": "code",
   "execution_count": 44,
   "metadata": {},
   "outputs": [
    {
     "name": "stdout",
     "output_type": "stream",
     "text": [
      "Частная производная F1 по dY: 30.0\n",
      "Частная производная F2 по dX: 3.551579437222159\n",
      "Частная производная F2 по dY: 7.350175488374015\n",
      "Градиент F1 в точке (1,2): [35.00000024 28.00000024]\n"
     ]
    }
   ],
   "source": [
    "#уровень 0\n",
    "#Посчитайте частные производные функций:\n",
    "#1) f(x,y)=2x^2y^3 + 1/x + y^2x + 7, а для этой функции также градиент в точке (1,2)\n",
    "#2) f(x,y)=x^2y - sin(xy) + cos(x^2) + 6y\n",
    "\n",
    "import numpy as np\n",
    "from scipy.optimize import approx_fprime\n",
    "from scipy.misc import derivative\n",
    "\n",
    "\n",
    "def f1x(x) :\n",
    "    return (16*x**2) + (1/x) + (4*x) + 7\n",
    "\n",
    "def f1y(y) :\n",
    "    return 2*y**3 + y**2 + 8\n",
    "\n",
    "def f2x(x) :\n",
    "    return 2*x**2 - np.sin(2*x) + np.cos(x**2) + 12\n",
    "\n",
    "def f2y(y) :\n",
    "    return y - np.sin(y) + np.cos(1) + 6*y\n",
    "\n",
    "x = 1.0\n",
    "y = 2.0\n",
    "#print(\"Частная производная F1 по dX: \" + str(derivative(f1x, x, n = 1)))\n",
    "print(\"Частная производная F1 по dY: \" + str(derivative(f1y, y, n = 1)))\n",
    "print(\"Частная производная F2 по dX: \" + str(derivative(f2x, x, n = 1)))\n",
    "print(\"Частная производная F2 по dY: \" + str(derivative(f2y, y, n = 1)))\n",
    "\n",
    "def func(x, c0, c1):\n",
    "    return c0*(x[0]**2)*(x[1]**3) + 1/x[0] + (x[0]*x[1]**2) + c1\n",
    "\n",
    "z = np.array([1.,2.])\n",
    "c0, c1 = (2,7)\n",
    "eps = np.sqrt(np.finfo(float).eps)\n",
    "print(\"Градиент F1 в точке (1,2): \" + str(approx_fprime(z, func, [eps, eps], c0, c1)))\n"
   ]
  },
  {
   "cell_type": "code",
   "execution_count": 40,
   "metadata": {},
   "outputs": [
    {
     "ename": "SyntaxError",
     "evalue": "invalid syntax (<ipython-input-40-5699f0ee5169>, line 12)",
     "output_type": "error",
     "traceback": [
      "\u001b[0;36m  File \u001b[0;32m\"<ipython-input-40-5699f0ee5169>\"\u001b[0;36m, line \u001b[0;32m12\u001b[0m\n\u001b[0;31m    grad = # Your code here (функция для вычисления градиента есть в лекционном ноутбуке)\u001b[0m\n\u001b[0m           ^\u001b[0m\n\u001b[0;31mSyntaxError\u001b[0m\u001b[0;31m:\u001b[0m invalid syntax\n"
     ]
    }
   ],
   "source": [
    "#уровень 1\n",
    "#Градиентный спуск своими руками:\n",
    "\n",
    "def f(x):\n",
    "    return (x[0]**2) + (x[1]**2)\n",
    "\n",
    "x = np.array([100, 200])\n",
    "learning_rate = 0.1\n",
    "\n",
    "for i in range(100):\n",
    "    # Calculate gradient\n",
    "    grad = # Your code here (функция для вычисления градиента есть в лекционном ноутбуке)\n",
    "    \n",
    "    # Update x with gradient\n",
    "    x = # Your code here (смотри слайд презентации про градиентный спуск)\n",
    "\n",
    "print(\"Минимум достигается в: \", x)\n",
    "print(\"Значение функции в минимуме: \", f(x))\n",
    "\n",
    "#Проверка с помощью встроенной функции numpy:"
   ]
  },
  {
   "cell_type": "code",
   "execution_count": null,
   "metadata": {},
   "outputs": [],
   "source": []
  }
 ],
 "metadata": {
  "kernelspec": {
   "display_name": "Python 3",
   "language": "python",
   "name": "python3"
  },
  "language_info": {
   "codemirror_mode": {
    "name": "ipython",
    "version": 3
   },
   "file_extension": ".py",
   "mimetype": "text/x-python",
   "name": "python",
   "nbconvert_exporter": "python",
   "pygments_lexer": "ipython3",
   "version": "3.8.5"
  }
 },
 "nbformat": 4,
 "nbformat_minor": 4
}
