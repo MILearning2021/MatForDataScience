{
 "cells": [
  {
   "cell_type": "code",
   "execution_count": 20,
   "metadata": {},
   "outputs": [
    {
     "name": "stdout",
     "output_type": "stream",
     "text": [
      "Частная производная F1 по dX: 3.551579437222159\n"
     ]
    }
   ],
   "source": [
    "#уровень 0\n",
    "#Посчитайте частные производные функций:\n",
    "#1) f(x,y)=2x^2y^3 + 1/x + y^2x + 7, а для этой функции также градиент в точке (1,2)\n",
    "#2) f(x,y)=x^2y - sin(xy) + cos(x^2) + 6y\n",
    "\n",
    "import numpy as np\n",
    "from scipy.optimize import approx_fprime\n",
    "from scipy.misc import derivative\n",
    "\n",
    "\n",
    "def f1x(x) :\n",
    "    return 16*x**2 + 1/x + 4*x + 7\n",
    "\n",
    "def f1y(y) :\n",
    "    return 2*y**3 + y**2 + 8\n",
    "\n",
    "def f2x(x) :\n",
    "    return 2*x**2 - np.sin(2*x) + np.cos(x**2) + 12\n",
    "\n",
    "def f2y(y) :\n",
    "    return y - np.sin(y) + np.cos(1) + 6*y\n",
    "\n",
    "x = 1.0\n",
    "y = 2.0\n",
    "print(\"Частная производная F1 по dX: \" + str(derivative(f2x, x, n = 1)))"
   ]
  },
  {
   "cell_type": "code",
   "execution_count": null,
   "metadata": {},
   "outputs": [],
   "source": []
  },
  {
   "cell_type": "code",
   "execution_count": null,
   "metadata": {},
   "outputs": [],
   "source": []
  }
 ],
 "metadata": {
  "kernelspec": {
   "display_name": "Python 3",
   "language": "python",
   "name": "python3"
  },
  "language_info": {
   "codemirror_mode": {
    "name": "ipython",
    "version": 3
   },
   "file_extension": ".py",
   "mimetype": "text/x-python",
   "name": "python",
   "nbconvert_exporter": "python",
   "pygments_lexer": "ipython3",
   "version": "3.8.5"
  }
 },
 "nbformat": 4,
 "nbformat_minor": 4
}
