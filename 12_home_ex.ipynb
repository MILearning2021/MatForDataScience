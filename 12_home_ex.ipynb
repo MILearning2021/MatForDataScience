{
 "cells": [
  {
   "cell_type": "code",
   "execution_count": 19,
   "metadata": {},
   "outputs": [],
   "source": [
    "#При фиксированном seed=42 поразбирайтесь и поэкспериментируйте с параметрами алгоритма \n",
    "#дифференциальной эволюции: strategy, popsize, tol, mutation, recombination и updating.\n",
    "#Постройте графики количества итераций оптимизации функции ackley от значения параметра.\n",
    "\n",
    "# strategy - стратегии оптимизации\n",
    "# popsize - размер популяции\n",
    "# tol - Относительная толерантность к сходимости\n",
    "# mutation - константа \"сила мутации\"\n",
    "# recombination - константа \"вероятность проявления мутации в след поколении\"\n",
    "# updating\n",
    "\n",
    "import numpy as np\n",
    "from scipy.optimize import differential_evolution\n",
    "import matplotlib.pyplot as plt\n",
    "\n",
    "def ackley(x):\n",
    "    arg1 = -0.2 * np.sqrt(0.5 * (x[0] ** 2 + x[1] ** 2))\n",
    "    arg2 = 0.5 * (np.cos(2. * np.pi * x[0]) + np.cos(2. * np.pi * x[1]))\n",
    "    return -20. * np.exp(arg1) - np.exp(arg2) + 20. + np.e\n",
    "\n",
    "bounds = [(-10, 10), (-10, 10)]\n"
   ]
  },
  {
   "cell_type": "code",
   "execution_count": 38,
   "metadata": {},
   "outputs": [
    {
     "name": "stdout",
     "output_type": "stream",
     "text": [
      "            best1bin --- 90 --- [0. 0.] --- True\n",
      "           best1exp --- 147 --- [0. 0.] --- True\n",
      "           rand1exp --- 246 --- [0. 0.] --- True\n",
      "     randtobest1exp --- 156 --- [0. 0.] --- True\n",
      "currenttobest1exp --- 1000 --- [0. 0.] --- False\n",
      "           best2exp --- 244 --- [0. 0.] --- True\n",
      "           rand2exp --- 341 --- [0. 0.] --- True\n",
      "     randtobest1bin --- 101 --- [0. 0.] --- True\n",
      "currenttobest1bin --- 1000 --- [0. 0.] --- False\n",
      "           best2bin --- 166 --- [0. 0.] --- True\n",
      "           rand2bin --- 232 --- [0. 0.] --- True\n",
      "           rand1bin --- 168 --- [0. 0.] --- True\n"
     ]
    },
    {
     "data": {
      "image/png": "[encoded data removed]",
      "text/plain": [
       "<Figure size 432x288 with 1 Axes>"
      ]
     },
     "metadata": {
      "needs_background": "light"
     },
     "output_type": "display_data"
    }
   ],
   "source": [
    "# strategy\n",
    "str_arr = (['best1bin', 'best1exp', 'rand1exp', 'randtobest1exp', 'currenttobest1exp', 'best2exp', 'rand2exp',\n",
    "            'randtobest1bin', 'currenttobest1bin', 'best2bin', 'rand2bin', 'rand1bin'])\n",
    "\n",
    "for i in range(len(str_arr)):\n",
    "    result = differential_evolution(ackley, bounds, seed=42, strategy=str_arr[i])\n",
    "    plt.plot(i,result.nit,'o')\n",
    "    str_str = str_arr[i] + \" --- \" + str(result.nit) + \" --- \" + str(result.x) + \" --- \" + str(result.success)\n",
    "    print(str_str.rjust(48, \" \"))"
   ]
  },
  {
   "cell_type": "code",
   "execution_count": 26,
   "metadata": {},
   "outputs": [
    {
     "name": "stdout",
     "output_type": "stream",
     "text": [
      "1 --- 7 --- [-2.62965595e-08  9.52166524e-01] --- True\n",
      "2 --- 7 --- [-2.62965595e-08  9.52166524e-01] --- True\n",
      "3 --- 29 --- [-4.05152994e-09 -2.98409129e-09] --- True\n",
      "4 --- 39 --- [ 4.99555835e-06 -1.10110403e-07] --- True\n",
      "     5 --- 100 --- [0. 0.] --- True\n",
      "      6 --- 99 --- [0. 0.] --- True\n",
      "      7 --- 87 --- [0. 0.] --- True\n",
      "      8 --- 97 --- [0. 0.] --- True\n",
      "     9 --- 101 --- [0. 0.] --- True\n",
      "     10 --- 97 --- [0. 0.] --- True\n",
      "     11 --- 89 --- [0. 0.] --- True\n",
      "     12 --- 96 --- [0. 0.] --- True\n",
      "     13 --- 96 --- [0. 0.] --- True\n",
      "     14 --- 99 --- [0. 0.] --- True\n"
     ]
    },
    {
     "data": {
      "image/png": "[encoded data removed]",
      "text/plain": [
       "<Figure size 432x288 with 1 Axes>"
      ]
     },
     "metadata": {
      "needs_background": "light"
     },
     "output_type": "display_data"
    }
   ],
   "source": [
    "# popsize\n",
    "for i in range(1, 15, 1):\n",
    "    result = differential_evolution(ackley, bounds, seed = 42, strategy='best1bin', popsize = i)\n",
    "    plt.plot(i,result.nit,'o')\n",
    "    str_str = str(i) + \" --- \" + str(result.nit) + \" --- \" + str(result.x) + \" --- \" + str(result.success)\n",
    "    print(str_str.rjust(35, \" \"))"
   ]
  },
  {
   "cell_type": "code",
   "execution_count": 31,
   "metadata": {},
   "outputs": [
    {
     "data": {
      "image/png": "[encoded data removed]",
      "text/plain": [
       "<Figure size 432x288 with 1 Axes>"
      ]
     },
     "metadata": {
      "needs_background": "light"
     },
     "output_type": "display_data"
    }
   ],
   "source": [
    "# tol\n",
    "for i in range(1, 40, 1):\n",
    "    result = differential_evolution(ackley, bounds, seed = 42, strategy='best1bin', tol = (i/100.))\n",
    "    plt.plot((i/100.),result.nit,'o')\n",
    "    str_str = str(i) + \" --- \" + str(result.nit) + \" --- \" + str(result.x) + \" --- \" + str(result.success)\n",
    "    #print(str_str.rjust(35, \" \"))"
   ]
  },
  {
   "cell_type": "code",
   "execution_count": 39,
   "metadata": {},
   "outputs": [
    {
     "name": "stdout",
     "output_type": "stream",
     "text": [
      "0.0 --- 3 --- [ 0.96847763 -0.96847758] --- True\n",
      "0.1 --- 5 --- [0.96847769 0.96847738] --- True\n",
      "    0.2 --- 28 --- [0. 0.] --- True\n",
      "    0.3 --- 38 --- [0. 0.] --- True\n",
      "    0.4 --- 47 --- [0. 0.] --- True\n",
      "    0.5 --- 57 --- [0. 0.] --- True\n",
      "    0.6 --- 76 --- [0. 0.] --- True\n",
      "    0.7 --- 91 --- [0. 0.] --- True\n",
      "   0.8 --- 104 --- [0. 0.] --- True\n",
      "   0.9 --- 137 --- [0. 0.] --- True\n",
      "1.0 --- 138 --- [4.4408921e-14 8.8817842e-15] --- True\n",
      "   1.1 --- 187 --- [0. 0.] --- True\n",
      "   1.2 --- 199 --- [0. 0.] --- True\n",
      "   1.3 --- 216 --- [0. 0.] --- True\n",
      "   1.4 --- 269 --- [0. 0.] --- True\n",
      "   1.5 --- 318 --- [0. 0.] --- True\n",
      "1.6 --- 176 --- [-5.05866392e-09 -4.87173472e-09] --- True\n",
      "1.7 --- 244 --- [ 9.24149646e-12 -1.27187150e-11] --- True\n",
      "1.8 --- 245 --- [2.57882604e-11 1.44328993e-13] --- True\n",
      "1.9 --- 246 --- [-6.64750477e-10 -2.23598917e-12] --- True\n"
     ]
    },
    {
     "data": {
      "image/png": "[encoded data removed]",
      "text/plain": [
       "<Figure size 432x288 with 1 Axes>"
      ]
     },
     "metadata": {
      "needs_background": "light"
     },
     "output_type": "display_data"
    }
   ],
   "source": [
    "# mutation\n",
    "for i in range(0, 20, 1):\n",
    "    result = differential_evolution(ackley, bounds, seed = 42, strategy='best1bin', mutation = i/10.)\n",
    "    plt.plot((i/10.),result.nit,'o')\n",
    "    str_str = str(i/10) + \" --- \" + str(result.nit) + \" --- \" + str(result.x) + \" --- \" + str(result.success)\n",
    "    print(str_str.rjust(35, \" \"))"
   ]
  },
  {
   "cell_type": "code",
   "execution_count": 41,
   "metadata": {},
   "outputs": [
    {
     "name": "stdout",
     "output_type": "stream",
     "text": [
      "   0.0 --- 111 --- [0. 0.] --- True\n",
      "   0.1 --- 126 --- [0. 0.] --- True\n",
      "   0.2 --- 110 --- [0. 0.] --- True\n",
      "   0.3 --- 108 --- [0. 0.] --- True\n",
      "   0.4 --- 108 --- [0. 0.] --- True\n",
      "   0.5 --- 107 --- [0. 0.] --- True\n",
      "    0.6 --- 96 --- [0. 0.] --- True\n",
      "    0.7 --- 90 --- [0. 0.] --- True\n",
      "    0.8 --- 84 --- [0. 0.] --- True\n",
      "    0.9 --- 85 --- [0. 0.] --- True\n",
      "    1.0 --- 82 --- [0. 0.] --- True\n"
     ]
    },
    {
     "data": {
      "image/png": "[encoded data removed]",
      "text/plain": [
       "<Figure size 432x288 with 1 Axes>"
      ]
     },
     "metadata": {
      "needs_background": "light"
     },
     "output_type": "display_data"
    }
   ],
   "source": [
    "# recombination\n",
    "for i in range(0, 11, 1):\n",
    "    result = differential_evolution(ackley, bounds, seed = 42, strategy='best1bin', recombination = i/10.)\n",
    "    plt.plot((i/10.),result.nit,'o')\n",
    "    str_str = str(i/10.) + \" --- \" + str(result.nit) + \" --- \" + str(result.x) + \" --- \" + str(result.success)\n",
    "    print(str_str.rjust(35, \" \"))"
   ]
  },
  {
   "cell_type": "code",
   "execution_count": 43,
   "metadata": {},
   "outputs": [
    {
     "name": "stdout",
     "output_type": "stream",
     "text": [
      "immediate --- 90 --- [0. 0.] --- True\n",
      "deferred --- 122 --- [0. 0.] --- True\n"
     ]
    }
   ],
   "source": [
    "# updating\n",
    "upd_arr = (['immediate', 'deferred'])\n",
    "for i in range(len(upd_arr)):\n",
    "    result = differential_evolution(ackley, bounds, seed = 42, strategy='best1bin', updating = upd_arr[i])\n",
    "    #plt.plot(i,result.nit,'o')\n",
    "    str_str = upd_arr[i] + \" --- \" + str(result.nit) + \" --- \" + str(result.x) + \" --- \" + str(result.success)\n",
    "    print(str_str.rjust(35, \" \"))"
   ]
  },
  {
   "cell_type": "code",
   "execution_count": null,
   "metadata": {},
   "outputs": [],
   "source": [
    "#Найти множество параметров (strategy=..., ..., updating=...), которые требуют минимального количества итераций.\n",
    "\n",
    "col = 0\n",
    "min_nit = -1\n",
    "\n",
    "for i in range(len(str_arr)):  #strategy\n",
    "    for i1 in range(1, 15, 1): #popsize\n",
    "        for i2 in range(1, 40, 1): #tol\n",
    "            for i3 in range(0, 20, 1): #mutation\n",
    "                for i4 in range(0, 11, 1): #recombination\n",
    "                    for i5 in range(len(upd_arr)): #updating\n",
    "                        result = differential_evolution(ackley, bounds, seed = 42, \n",
    "                                                        strategy=str_arr[i],\n",
    "                                                        popsize = i1,\n",
    "                                                        tol = i2/100.,\n",
    "                                                        mutation = i3/10.,\n",
    "                                                        recombination = i4/10.,\n",
    "                                                        updating = upd_arr[i5])\n",
    "                        if min_nit < 0:\n",
    "                            min_nit = result.nit\n",
    "                            str_str = \"strategy= \" + str_arr[i] + \" - \" + \"popsize= \" + str(i1) + \" - \" + \"tol= \" + str(i2/100.) + \" - \" + \"mutation= \" + str(i3/10.) + \" - \" + \"recombination= \" + str(i4/10.) + \" - \" + \"updating= \" + upd_arr[i5] \n",
    "                        else:\n",
    "                            min_nit = min(min_nit, result.nit)\n",
    "                            str_str = \"strategy= \" + str_arr[i] + \" - \" + \"popsize= \" + str(i1) + \" - \" + \"tol= \" + str(i2/100.) + \" - \" + \"mutation= \" + str(i3/10.) + \" - \" + \"recombination= \" + str(i4/10.) + \" - \" + \"updating= \" + upd_arr[i5]\n",
    "                            \n",
    "print(str_str)"
   ]
  },
  {
   "cell_type": "code",
   "execution_count": null,
   "metadata": {},
   "outputs": [],
   "source": []
  },
  {
   "cell_type": "code",
   "execution_count": null,
   "metadata": {},
   "outputs": [],
   "source": []
  }
 ],
 "metadata": {
  "kernelspec": {
   "display_name": "Python 3",
   "language": "python",
   "name": "python3"
  },
  "language_info": {
   "codemirror_mode": {
    "name": "ipython",
    "version": 3
   },
   "file_extension": ".py",
   "mimetype": "text/x-python",
   "name": "python",
   "nbconvert_exporter": "python",
   "pygments_lexer": "ipython3",
   "version": "3.8.5"
  }
 },
 "nbformat": 4,
 "nbformat_minor": 4
}
